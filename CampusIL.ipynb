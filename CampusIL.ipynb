{
 "cells": [
  {
   "cell_type": "markdown",
   "id": "5b1e31e7",
   "metadata": {},
   "source": [
    "1.4.1"
   ]
  },
  {
   "cell_type": "code",
   "execution_count": 21,
   "id": "c8e0735b",
   "metadata": {},
   "outputs": [
    {
     "name": "stdout",
     "output_type": "stream",
     "text": [
      "Welcome to the game Hangman\n",
      "    _    _\n",
      "   | |  | |\n",
      "   | |__| | __ _ _ __   __ _ _ __ ___   __ _ _ __\n",
      "   |  __  |/ _' | '_ \\ / _' | '_ ' _ \\ / _' | '_ \\\n",
      "   | |  | | (_| | | | | (_| | | | | | | (_| | | | |\n",
      "   |_|  |_|\\__,_|_| |_|\\__, |_| |_| |_|\\__,_|_| |_|\n",
      "                        __/ |\n",
      "                       |___/\n",
      "      \n",
      "a\n"
     ]
    }
   ],
   "source": [
    "import random\n",
    "\n",
    "print (\"\"\"Welcome to the game Hangman\n",
    "    _    _\n",
    "   | |  | |\n",
    "   | |__| | __ _ _ __   __ _ _ __ ___   __ _ _ __\n",
    "   |  __  |/ _' | '_ \\ / _' | '_ ' _ \\ / _' | '_ \\\\\n",
    "   | |  | | (_| | | | | (_| | | | | | | (_| | | | |\n",
    "   |_|  |_|\\__,_|_| |_|\\__, |_| |_| |_|\\__,_|_| |_|\n",
    "                        __/ |\n",
    "                       |___/\n",
    "      \"\"\")\n",
    "a = random.randint(5,11)\n",
    "print(a)"
   ]
  },
  {
   "cell_type": "markdown",
   "id": "0c2a65f4",
   "metadata": {},
   "source": [
    "1.4.2"
   ]
  },
  {
   "cell_type": "code",
   "execution_count": 24,
   "id": "64dc98c6",
   "metadata": {},
   "outputs": [
    {
     "name": "stdout",
     "output_type": "stream",
     "text": [
      "Welcome to the game Hangman\n",
      "    _    _\n",
      "   | |  | |\n",
      "   | |__| | __ _ _ __   __ _ _ __ ___   __ _ _ __\n",
      "   |  __  |/ _' | '_ \\ / _' | '_ ' _ \\ / _' | '_ \\\n",
      "   | |  | | (_| | | | | (_| | | | | | | (_| | | | |\n",
      "   |_|  |_|\\__,_|_| |_|\\__, |_| |_| |_|\\__,_|_| |_|\n",
      "                        __/ |\n",
      "                       |___/\n",
      "      \n",
      "6\n",
      "x-------x\n",
      "\n",
      "    x-------x\n",
      "    |\n",
      "    |\n",
      "    |\n",
      "    |\n",
      "    |\n",
      "\n",
      "\n",
      "    x-------x\n",
      "    |       |\n",
      "    |       0\n",
      "    |\n",
      "    |\n",
      "    |\n",
      "\n",
      "\n",
      "    x-------x\n",
      "    |       |\n",
      "    |       0\n",
      "    |       |\n",
      "    |\n",
      "    |\n",
      "\n",
      "\n",
      "    x-------x\n",
      "    |       |\n",
      "    |       0\n",
      "    |      /|\\\n",
      "    |\n",
      "    |\n",
      "\n",
      "\n",
      "    x-------x\n",
      "    |       |\n",
      "    |       0\n",
      "    |      /|\\\n",
      "    |      /\n",
      "    |\n",
      "\n",
      "\n",
      "    x-------x\n",
      "    |       |\n",
      "    |       0\n",
      "    |      /|\\\n",
      "    |      / \\\n",
      "    |\n",
      "\n"
     ]
    }
   ],
   "source": [
    "import random\n",
    "\n",
    "print (\"\"\"Welcome to the game Hangman\n",
    "    _    _\n",
    "   | |  | |\n",
    "   | |__| | __ _ _ __   __ _ _ __ ___   __ _ _ __\n",
    "   |  __  |/ _' | '_ \\ / _' | '_ ' _ \\ / _' | '_ \\\\\n",
    "   | |  | | (_| | | | | (_| | | | | | | (_| | | | |\n",
    "   |_|  |_|\\__,_|_| |_|\\__, |_| |_| |_|\\__,_|_| |_|\n",
    "                        __/ |\n",
    "                       |___/\n",
    "      \"\"\")\n",
    "a = random.randint(5,11)\n",
    "print(a)\n",
    "\n",
    "##picture 1:\n",
    "print('x-------x')\n",
    "\n",
    "##picture 2:\n",
    "print(\"\"\"\n",
    "    x-------x\n",
    "    |\n",
    "    |\n",
    "    |\n",
    "    |\n",
    "    |\n",
    "\"\"\")\n",
    "##picture 3:\n",
    "print(\"\"\"\n",
    "    x-------x\n",
    "    |       |\n",
    "    |       0\n",
    "    |\n",
    "    |\n",
    "    |\n",
    "\"\"\")\n",
    "\n",
    "##picture 4:\n",
    "print(\"\"\"\n",
    "    x-------x\n",
    "    |       |\n",
    "    |       0\n",
    "    |       |\n",
    "    |\n",
    "    |\n",
    "\"\"\")\n",
    "\n",
    "##picture 5:\n",
    "print(\"\"\"\n",
    "    x-------x\n",
    "    |       |\n",
    "    |       0\n",
    "    |      /|\\\\\n",
    "    |\n",
    "    |\n",
    "\"\"\")\n",
    "##picture 6:\n",
    "print(\"\"\"\n",
    "    x-------x\n",
    "    |       |\n",
    "    |       0\n",
    "    |      /|\\\\\n",
    "    |      /\n",
    "    |\n",
    "\"\"\")\n",
    "##picture 7:\n",
    "print(\"\"\"\n",
    "    x-------x\n",
    "    |       |\n",
    "    |       0\n",
    "    |      /|\\\\\n",
    "    |      / \\\\\n",
    "    |\n",
    "\"\"\")"
   ]
  },
  {
   "cell_type": "markdown",
   "id": "d0b4f2bc",
   "metadata": {},
   "source": [
    "2.5.1"
   ]
  },
  {
   "cell_type": "code",
   "execution_count": 28,
   "id": "e3cfd34e",
   "metadata": {},
   "outputs": [
    {
     "name": "stdout",
     "output_type": "stream",
     "text": [
      "Welcome to the game Hangman\n",
      "    _    _\n",
      "   | |  | |\n",
      "   | |__| | __ _ _ __   __ _ _ __ ___   __ _ _ __\n",
      "   |  __  |/ _' | '_ \\ / _' | '_ ' _ \\ / _' | '_ \\\n",
      "   | |  | | (_| | | | | (_| | | | | | | (_| | | | |\n",
      "   |_|  |_|\\__,_|_| |_|\\__, |_| |_| |_|\\__,_|_| |_|\n",
      "                        __/ |\n",
      "                       |___/\n",
      "      6\n"
     ]
    }
   ],
   "source": [
    "HANGMAN_ASCII_ART = (\"\"\"Welcome to the game Hangman\n",
    "    _    _\n",
    "   | |  | |\n",
    "   | |__| | __ _ _ __   __ _ _ __ ___   __ _ _ __\n",
    "   |  __  |/ _' | '_ \\ / _' | '_ ' _ \\ / _' | '_ \\\\\n",
    "   | |  | | (_| | | | | (_| | | | | | | (_| | | | |\n",
    "   |_|  |_|\\__,_|_| |_|\\__, |_| |_| |_|\\__,_|_| |_|\n",
    "                        __/ |\n",
    "                       |___/\n",
    "      \"\"\")\n",
    "MAX_TRIES = 6\n",
    "\n",
    "print(HANGMAN_ASCII_ART + str(MAX_TRIES))"
   ]
  },
  {
   "cell_type": "markdown",
   "id": "a9a52578",
   "metadata": {},
   "source": [
    "2.5.2"
   ]
  },
  {
   "cell_type": "code",
   "execution_count": 38,
   "id": "4dc32c44",
   "metadata": {},
   "outputs": [
    {
     "name": "stdout",
     "output_type": "stream",
     "text": [
      "Guess a letter:x\n",
      "Welcome to the game Hangman\n",
      "    _    _\n",
      "   | |  | |\n",
      "   | |__| | __ _ _ __   __ _ _ __ ___   __ _ _ __\n",
      "   |  __  |/ _' | '_ \\ / _' | '_ ' _ \\ / _' | '_ \\\n",
      "   | |  | | (_| | | | | (_| | | | | | | (_| | | | |\n",
      "   |_|  |_|\\__,_|_| |_|\\__, |_| |_| |_|\\__,_|_| |_|\n",
      "                        __/ |\n",
      "                       |___/\n",
      "      \n",
      "Number of tries: 6\n",
      "Your letter is x\n"
     ]
    }
   ],
   "source": [
    "letter = input(\"Guess a letter:\")\n",
    "HANGMAN_ASCII_ART = (\"\"\"Welcome to the game Hangman\n",
    "    _    _\n",
    "   | |  | |\n",
    "   | |__| | __ _ _ __   __ _ _ __ ___   __ _ _ __\n",
    "   |  __  |/ _' | '_ \\ / _' | '_ ' _ \\ / _' | '_ \\\\\n",
    "   | |  | | (_| | | | | (_| | | | | | | (_| | | | |\n",
    "   |_|  |_|\\__,_|_| |_|\\__, |_| |_| |_|\\__,_|_| |_|\n",
    "                        __/ |\n",
    "                       |___/\n",
    "      \"\"\")\n",
    "MAX_TRIES = 6\n",
    "\n",
    "print(HANGMAN_ASCII_ART + \"\\n\" + \"Number of tries: \" + str(MAX_TRIES) + \"\\n\" +  \"Your letter is \" + letter)"
   ]
  },
  {
   "cell_type": "code",
   "execution_count": null,
   "id": "c4999e26",
   "metadata": {},
   "outputs": [],
   "source": []
  }
 ],
 "metadata": {
  "kernelspec": {
   "display_name": "Python 3 (ipykernel)",
   "language": "python",
   "name": "python3"
  },
  "language_info": {
   "codemirror_mode": {
    "name": "ipython",
    "version": 3
   },
   "file_extension": ".py",
   "mimetype": "text/x-python",
   "name": "python",
   "nbconvert_exporter": "python",
   "pygments_lexer": "ipython3",
   "version": "3.9.7"
  }
 },
 "nbformat": 4,
 "nbformat_minor": 5
}

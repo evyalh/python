{
 "cells": [
  {
   "cell_type": "markdown",
   "id": "979c5892",
   "metadata": {},
   "source": [
    "### 2.5.2"
   ]
  },
  {
   "cell_type": "code",
   "execution_count": 1,
   "id": "bd6e0439",
   "metadata": {},
   "outputs": [
    {
     "name": "stdout",
     "output_type": "stream",
     "text": [
      "Guess a letter:A\n",
      "Welcome to the game Hangman\n",
      "    _    _\n",
      "   | |  | |\n",
      "   | |__| | __ _ _ __   __ _ _ __ ___   __ _ _ __\n",
      "   |  __  |/ _' | '_ \\ / _' | '_ ' _ \\ / _' | '_ \\\n",
      "   | |  | | (_| | | | | (_| | | | | | | (_| | | | |\n",
      "   |_|  |_|\\__,_|_| |_|\\__, |_| |_| |_|\\__,_|_| |_|\n",
      "                        __/ |\n",
      "                       |___/\n",
      "      \n",
      "Number of tries: 6\n",
      "Your letter is A\n"
     ]
    }
   ],
   "source": [
    "letter = input(\"Guess a letter:\")\n",
    "HANGMAN_ASCII_ART = (\"\"\"Welcome to the game Hangman\n",
    "    _    _\n",
    "   | |  | |\n",
    "   | |__| | __ _ _ __   __ _ _ __ ___   __ _ _ __\n",
    "   |  __  |/ _' | '_ \\ / _' | '_ ' _ \\ / _' | '_ \\\\\n",
    "   | |  | | (_| | | | | (_| | | | | | | (_| | | | |\n",
    "   |_|  |_|\\__,_|_| |_|\\__, |_| |_| |_|\\__,_|_| |_|\n",
    "                        __/ |\n",
    "                       |___/\n",
    "      \"\"\")\n",
    "MAX_TRIES = 6\n",
    "\n",
    "print(HANGMAN_ASCII_ART + \"\\n\" + \"Number of tries: \" + str(MAX_TRIES) + \"\\n\" +  \"Your letter is \" + letter)"
   ]
  },
  {
   "cell_type": "markdown",
   "id": "b1a7540c",
   "metadata": {},
   "source": [
    "### 3.5.1"
   ]
  },
  {
   "cell_type": "code",
   "execution_count": 6,
   "id": "b2ce101d",
   "metadata": {},
   "outputs": [
    {
     "name": "stdout",
     "output_type": "stream",
     "text": [
      "Guess a letter : A\n",
      "Welcome to the game Hangman\n",
      "    _    _\n",
      "   | |  | |\n",
      "   | |__| | __ _ _ __   __ _ _ __ ___   __ _ _ __\n",
      "   |  __  |/ _' | '_ \\ / _' | '_ ' _ \\ / _' | '_ \\\n",
      "   | |  | | (_| | | | | (_| | | | | | | (_| | | | |\n",
      "   |_|  |_|\\__,_|_| |_|\\__, |_| |_| |_|\\__,_|_| |_|\n",
      "                        __/ |\n",
      "                       |___/\n",
      "      \n",
      "Number of tries: 6\n",
      "Your letter is a\n"
     ]
    }
   ],
   "source": [
    "letter = input(\"Guess a letter : \")\n",
    "HANGMAN_ASCII_ART = (\"\"\"Welcome to the game Hangman\n",
    "    _    _\n",
    "   | |  | |\n",
    "   | |__| | __ _ _ __   __ _ _ __ ___   __ _ _ __\n",
    "   |  __  |/ _' | '_ \\ / _' | '_ ' _ \\ / _' | '_ \\\\\n",
    "   | |  | | (_| | | | | (_| | | | | | | (_| | | | |\n",
    "   |_|  |_|\\__,_|_| |_|\\__, |_| |_| |_|\\__,_|_| |_|\n",
    "                        __/ |\n",
    "                       |___/\n",
    "      \"\"\")\n",
    "MAX_TRIES = 6\n",
    "\n",
    "print(HANGMAN_ASCII_ART + \"\\n\" + \"Number of tries: \" + str(MAX_TRIES) + \"\\n\" +  \"Your letter is \" + letter.lower())"
   ]
  },
  {
   "cell_type": "markdown",
   "id": "a8696f14",
   "metadata": {},
   "source": [
    "### 3.5.2"
   ]
  },
  {
   "cell_type": "code",
   "execution_count": 1,
   "id": "db383558",
   "metadata": {},
   "outputs": [
    {
     "ename": "KeyboardInterrupt",
     "evalue": "Interrupted by user",
     "output_type": "error",
     "traceback": [
      "\u001b[0;31m---------------------------------------------------------------------------\u001b[0m",
      "\u001b[0;31mKeyboardInterrupt\u001b[0m                         Traceback (most recent call last)",
      "\u001b[0;32m/var/folders/z7/wzc52j290pxfn_8cn8tbqnjh0000gq/T/ipykernel_37368/602796339.py\u001b[0m in \u001b[0;36m<module>\u001b[0;34m\u001b[0m\n\u001b[0;32m----> 1\u001b[0;31m \u001b[0mword\u001b[0m \u001b[0;34m=\u001b[0m \u001b[0minput\u001b[0m\u001b[0;34m(\u001b[0m\u001b[0;34m\"Please enter a word: \"\u001b[0m\u001b[0;34m)\u001b[0m\u001b[0;34m\u001b[0m\u001b[0;34m\u001b[0m\u001b[0m\n\u001b[0m\u001b[1;32m      2\u001b[0m \u001b[0;31m##word_length = len(word)\u001b[0m\u001b[0;34m\u001b[0m\u001b[0;34m\u001b[0m\u001b[0m\n\u001b[1;32m      3\u001b[0m \u001b[0;31m##print(word_length)\u001b[0m\u001b[0;34m\u001b[0m\u001b[0;34m\u001b[0m\u001b[0m\n\u001b[1;32m      4\u001b[0m \u001b[0mword\u001b[0m \u001b[0;34m=\u001b[0m \u001b[0mword\u001b[0m\u001b[0;34m.\u001b[0m\u001b[0mreplace\u001b[0m\u001b[0;34m(\u001b[0m\u001b[0mword\u001b[0m\u001b[0;34m,\u001b[0m \u001b[0;34m\"_ \"\u001b[0m \u001b[0;34m*\u001b[0m \u001b[0;34m(\u001b[0m\u001b[0mword_length\u001b[0m\u001b[0;34m-\u001b[0m\u001b[0;36m1\u001b[0m\u001b[0;34m)\u001b[0m \u001b[0;34m+\u001b[0m \u001b[0;34m\"_\"\u001b[0m\u001b[0;34m)\u001b[0m\u001b[0;34m\u001b[0m\u001b[0;34m\u001b[0m\u001b[0m\n\u001b[1;32m      5\u001b[0m \u001b[0mprint\u001b[0m\u001b[0;34m(\u001b[0m\u001b[0mword\u001b[0m\u001b[0;34m)\u001b[0m\u001b[0;34m\u001b[0m\u001b[0;34m\u001b[0m\u001b[0m\n",
      "\u001b[0;32m/Applications/anaconda3/lib/python3.9/site-packages/ipykernel/kernelbase.py\u001b[0m in \u001b[0;36mraw_input\u001b[0;34m(self, prompt)\u001b[0m\n\u001b[1;32m   1004\u001b[0m                 \u001b[0;34m\"raw_input was called, but this frontend does not support input requests.\"\u001b[0m\u001b[0;34m\u001b[0m\u001b[0;34m\u001b[0m\u001b[0m\n\u001b[1;32m   1005\u001b[0m             )\n\u001b[0;32m-> 1006\u001b[0;31m         return self._input_request(\n\u001b[0m\u001b[1;32m   1007\u001b[0m             \u001b[0mstr\u001b[0m\u001b[0;34m(\u001b[0m\u001b[0mprompt\u001b[0m\u001b[0;34m)\u001b[0m\u001b[0;34m,\u001b[0m\u001b[0;34m\u001b[0m\u001b[0;34m\u001b[0m\u001b[0m\n\u001b[1;32m   1008\u001b[0m             \u001b[0mself\u001b[0m\u001b[0;34m.\u001b[0m\u001b[0m_parent_ident\u001b[0m\u001b[0;34m[\u001b[0m\u001b[0;34m\"shell\"\u001b[0m\u001b[0;34m]\u001b[0m\u001b[0;34m,\u001b[0m\u001b[0;34m\u001b[0m\u001b[0;34m\u001b[0m\u001b[0m\n",
      "\u001b[0;32m/Applications/anaconda3/lib/python3.9/site-packages/ipykernel/kernelbase.py\u001b[0m in \u001b[0;36m_input_request\u001b[0;34m(self, prompt, ident, parent, password)\u001b[0m\n\u001b[1;32m   1049\u001b[0m             \u001b[0;32mexcept\u001b[0m \u001b[0mKeyboardInterrupt\u001b[0m\u001b[0;34m:\u001b[0m\u001b[0;34m\u001b[0m\u001b[0;34m\u001b[0m\u001b[0m\n\u001b[1;32m   1050\u001b[0m                 \u001b[0;31m# re-raise KeyboardInterrupt, to truncate traceback\u001b[0m\u001b[0;34m\u001b[0m\u001b[0;34m\u001b[0m\u001b[0m\n\u001b[0;32m-> 1051\u001b[0;31m                 \u001b[0;32mraise\u001b[0m \u001b[0mKeyboardInterrupt\u001b[0m\u001b[0;34m(\u001b[0m\u001b[0;34m\"Interrupted by user\"\u001b[0m\u001b[0;34m)\u001b[0m \u001b[0;32mfrom\u001b[0m \u001b[0;32mNone\u001b[0m\u001b[0;34m\u001b[0m\u001b[0;34m\u001b[0m\u001b[0m\n\u001b[0m\u001b[1;32m   1052\u001b[0m             \u001b[0;32mexcept\u001b[0m \u001b[0mException\u001b[0m\u001b[0;34m:\u001b[0m\u001b[0;34m\u001b[0m\u001b[0;34m\u001b[0m\u001b[0m\n\u001b[1;32m   1053\u001b[0m                 \u001b[0mself\u001b[0m\u001b[0;34m.\u001b[0m\u001b[0mlog\u001b[0m\u001b[0;34m.\u001b[0m\u001b[0mwarning\u001b[0m\u001b[0;34m(\u001b[0m\u001b[0;34m\"Invalid Message:\"\u001b[0m\u001b[0;34m,\u001b[0m \u001b[0mexc_info\u001b[0m\u001b[0;34m=\u001b[0m\u001b[0;32mTrue\u001b[0m\u001b[0;34m)\u001b[0m\u001b[0;34m\u001b[0m\u001b[0;34m\u001b[0m\u001b[0m\n",
      "\u001b[0;31mKeyboardInterrupt\u001b[0m: Interrupted by user"
     ]
    }
   ],
   "source": [
    "word = input(\"Please enter a word: \")\n",
    "##word_length = len(word)\n",
    "##print(word_length)\n",
    "word = word.replace(word, \"_ \" * (word_length-1) + \"_\")\n",
    "print(word)"
   ]
  },
  {
   "cell_type": "markdown",
   "id": "8e99fc7e",
   "metadata": {},
   "source": [
    "### 4.3.1"
   ]
  },
  {
   "cell_type": "code",
   "execution_count": null,
   "id": "f5d34730",
   "metadata": {},
   "outputs": [],
   "source": [
    "letter = input(\"Guess a letter : \")\n",
    "HANGMAN_ASCII_ART = (\"\"\"Welcome to the game Hangman\n",
    "    _    _\n",
    "   | |  | |\n",
    "   | |__| | __ _ _ __   __ _ _ __ ___   __ _ _ __\n",
    "   |  __  |/ _' | '_ \\ / _' | '_ ' _ \\ / _' | '_ \\\\\n",
    "   | |  | | (_| | | | | (_| | | | | | | (_| | | | |\n",
    "   |_|  |_|\\__,_|_| |_|\\__, |_| |_| |_|\\__,_|_| |_|\n",
    "                        __/ |\n",
    "                       |___/\n",
    "      \"\"\")\n",
    "MAX_TRIES = 6\n",
    "special_characters = '[@_!#$%^&*()<>?/\\|}{~:]'\n",
    "\n",
    "if len(letter)>1 and letter.find(special_characters)==1:\n",
    "    print(\"E1\")\n",
    "elif letter.find(special_characters)==1:\n",
    "    print(\"E2\")\n",
    "elif len(letter)>1:\n",
    "    print(\"E3\")\n",
    "elif len(letter)==1 and letter.isalpha(): \n",
    "    print(HANGMAN_ASCII_ART + \"\\n\" + \"Number of tries: \" + str(MAX_TRIES) + \"\\n\" +  \"Your letter is \" + letter.lower())"
   ]
  },
  {
   "cell_type": "code",
   "execution_count": 18,
   "id": "f9cecc48",
   "metadata": {},
   "outputs": [
    {
     "name": "stdout",
     "output_type": "stream",
     "text": [
      "Guess a letter : app$\n",
      "E1\n"
     ]
    }
   ],
   "source": [
    "####################### QA #######################\n",
    "letter = input(\"Guess a letter : \")\n",
    "special_characters = '[@_!#$%^&*()<>?/\\|}{~:]'\n",
    "\n",
    "if letter.find(special_characters):\n",
    "    print(\"E1\")\n",
    "else:\n",
    "    print(\"Your letter is \" + letter.lower())"
   ]
  },
  {
   "cell_type": "markdown",
   "id": "6a36b9fe",
   "metadata": {},
   "source": [
    "### 5.5.1"
   ]
  },
  {
   "cell_type": "code",
   "execution_count": 47,
   "id": "7450d4a2",
   "metadata": {},
   "outputs": [
    {
     "name": "stdout",
     "output_type": "stream",
     "text": [
      "Guess a letter : $\n",
      "Please make sure to type in one A-Z charecter\n"
     ]
    }
   ],
   "source": [
    "def is_valid_input(letter_guessed):\n",
    "    special_characters = '[@_!#$%^&*()<>?/\\|}{~:]'\n",
    "    if len(letter_guessed)>1 and letter.find(special_characters)==1:\n",
    "        return False\n",
    "    elif letter_guessed.find(special_characters)==1:\n",
    "        return False\n",
    "    elif len(letter_guessed)>1:\n",
    "        return False\n",
    "    elif len(letter_guessed)==1 and letter.isalpha():\n",
    "        return True\n",
    "\n",
    "letter = input(\"Guess a letter : \")\n",
    "HANGMAN_ASCII_ART = (\"\"\"Welcome to the game Hangman\n",
    "    _    _\n",
    "   | |  | |\n",
    "   | |__| | __ _ _ __   __ _ _ __ ___   __ _ _ __\n",
    "   |  __  |/ _' | '_ \\ / _' | '_ ' _ \\ / _' | '_ \\\\\n",
    "   | |  | | (_| | | | | (_| | | | | | | (_| | | | |\n",
    "   |_|  |_|\\__,_|_| |_|\\__, |_| |_| |_|\\__,_|_| |_|\n",
    "                        __/ |\n",
    "                       |___/\n",
    "      \"\"\")\n",
    "MAX_TRIES = 6\n",
    "\n",
    "if is_valid_input(letter)==True:\n",
    "    print(HANGMAN_ASCII_ART + \"\\n\" + \"Number of tries: \" + str(MAX_TRIES) + \"\\n\" +  \"Your letter is \" + letter.lower())\n",
    "else:\n",
    "    print(\"Please make sure to type in one A-Z charecter\")"
   ]
  },
  {
   "cell_type": "markdown",
   "id": "5763876d",
   "metadata": {},
   "source": [
    "## 6.4.1 - Sagi QA\n",
    "check_valid_input('$', old_letters) DOESNT WORK"
   ]
  },
  {
   "cell_type": "code",
   "execution_count": 55,
   "id": "545a0c1c",
   "metadata": {},
   "outputs": [
    {
     "name": "stdout",
     "output_type": "stream",
     "text": [
      "feature\n"
     ]
    }
   ],
   "source": [
    "def check_valid_input(letter_guessed, old_letters_guessed):\n",
    "    special_characters = '[@_!#$%^&*()<>?/\\|}{~:]'\n",
    "    if len(letter_guessed)>1 or letter.find(special_characters)==1:\n",
    "        return False\n",
    "#     if letter_guessed.find(special_characters)==1:\n",
    "#         return False\n",
    "#     if len(letter_guessed)>1:\n",
    "#         return False\n",
    "    if letter_guessed.lower() in old_letters_guessed:\n",
    "        return False\n",
    "    if len(letter_guessed)==1 and letter.isalpha():\n",
    "        return True\n",
    "    else:\n",
    "        print(\"feature\")\n",
    "    \n",
    "old_letters = ['a', 'b', 'c']\n",
    "#check_valid_input('C', old_letters)\n",
    "# False\n",
    "#check_valid_input('ep', old_letters)\n",
    "# False\n",
    "check_valid_input('$', old_letters)\n",
    "# False\n",
    "# check_valid_input('s', old_letters)\n",
    "# True"
   ]
  },
  {
   "cell_type": "code",
   "execution_count": 50,
   "id": "2d1fa25d",
   "metadata": {},
   "outputs": [
    {
     "name": "stdout",
     "output_type": "stream",
     "text": [
      "$\n",
      "$\n",
      "['a', 'b', 'c']\n",
      "wrong\n"
     ]
    }
   ],
   "source": [
    "####################### QA #######################\n",
    "def check_valid_input(letter_guessed, old_letters_guessed):\n",
    "    print(letter_guessed)\n",
    "    print(letter_guessed.lower())\n",
    "    print(old_letters_guessed)\n",
    "    if letter_guessed.find(special_characters)==1:\n",
    "        return False\n",
    "    if letter_guessed.lower() in old_letters_guessed:\n",
    "        return False\n",
    "    else:\n",
    "        print(\"wrong\")\n",
    "old_letters = ['a', 'b', 'c']\n",
    "#check_valid_input('C', old_letters)\n",
    "check_valid_input('$', old_letters)"
   ]
  },
  {
   "cell_type": "markdown",
   "id": "8ceb6cab",
   "metadata": {},
   "source": [
    "### 6.4.2 Sagi QA\n",
    "try_update_letter_guessed('s', old_letters) DOESNT RUN"
   ]
  },
  {
   "cell_type": "code",
   "execution_count": 68,
   "id": "00aa4581",
   "metadata": {},
   "outputs": [
    {
     "name": "stdout",
     "output_type": "stream",
     "text": [
      "feature\n"
     ]
    }
   ],
   "source": [
    "def try_update_letter_guessed(letter_guessed, old_letters_guessed):\n",
    "    special_characters = '[@_!#$%^&*()<>?/\\|}{~:]'\n",
    "    x = \" -> \"\n",
    "    old_letters_guessed.sort()\n",
    "    if len(letter_guessed)>1 or letter.find(special_characters)==1:\n",
    "        return False\n",
    "#     if letter_guessed.find(special_characters)==1:\n",
    "#         return False\n",
    "#     if len(letter_guessed)>1:\n",
    "#         return False\n",
    "    if letter_guessed.lower() in old_letters_guessed:\n",
    "        print(\"X\")\n",
    "        final = x.join(old_letters_guessed)\n",
    "        print(final)\n",
    "        print(\"False\")\n",
    "    if len(letter_guessed)==1 and letter.isalpha():\n",
    "        final = x.join(old_letters_guessed.append(letter_guessed))\n",
    "        print(\"True\")\n",
    "        print(final)\n",
    "    else:\n",
    "        print(\"feature\")\n",
    "    \n",
    "old_letters = ['a', 'p', 'c', 'f']\n",
    "#try_update_letter_guessed('A', old_letters)\n",
    "try_update_letter_guessed('s', old_letters)"
   ]
  },
  {
   "cell_type": "markdown",
   "id": "43e8ec2f",
   "metadata": {},
   "source": [
    "### 7.3.1 QA"
   ]
  },
  {
   "cell_type": "code",
   "execution_count": 29,
   "id": "78407dcc",
   "metadata": {},
   "outputs": [
    {
     "name": "stdout",
     "output_type": "stream",
     "text": [
      "m\n",
      "['m']\n",
      "m\n",
      "['m', ' _ ', ' _ ', 'm']\n",
      "m\n",
      "['m', ' _ ', ' _ ', 'm', ' _ ', 'm']\n",
      "s\n",
      "['m', ' _ ', ' _ ', 'm', ' _ ', 'm', ' _ ', ' _ ', ' _ ', 's']\n"
     ]
    }
   ],
   "source": [
    "def show_hidden_word(secret_word, old_letters_guessed):\n",
    "    ls=[]\n",
    "    i=0\n",
    "    for i in range(len(secret_word)):\n",
    "        for j in range(len(old_letters_guessed)):\n",
    "            if secret_word[i]==old_letters_guessed[j]:\n",
    "                ls.append(old_letters_guessed[j])\n",
    "                print(old_letters_guessed[j])\n",
    "                print(ls)\n",
    "        if ls[i]!='':\n",
    "            ls.append(' _ ')\n",
    "            continue\n",
    "            return(print(ls)) \n",
    "\n",
    "secret_word = \"mammals\"\n",
    "old_letters_guessed = ['s', 'p', 'j', 'i', 'm', 'k']\n",
    "#print(\n",
    "show_hidden_word(secret_word, old_letters_guessed)\n",
    "#)\n",
    "#m _ m m _ _ s\n",
    "\n",
    "\n"
   ]
  },
  {
   "cell_type": "markdown",
   "id": "22f2bf93",
   "metadata": {},
   "source": [
    "### 7.3.2"
   ]
  },
  {
   "cell_type": "code",
   "execution_count": 39,
   "id": "00b07e76",
   "metadata": {},
   "outputs": [],
   "source": [
    "def show_hidden_word(secret_word, old_letters_guessed):\n",
    "    ls=[]\n",
    "    i=0\n",
    "    for i in range(len(secret_word)):\n",
    "        for j in range(len(old_letters_guessed)):\n",
    "            if secret_word[i]==old_letters_guessed[j]:\n",
    "                ls.append(old_letters_guessed[j])\n",
    "                #print(old_letters_guessed[j])\n",
    "                #print(ls)\n",
    "        if ls[i]!='':\n",
    "            ls.append(' _ ')\n",
    "            continue\n",
    "            return(print(ls)) \n",
    "\n",
    "secret_word = \"mammals\"\n",
    "old_letters_guessed = ['s', 'p', 'j', 'i', 'm', 'k']\n",
    "#print(\n",
    "show_hidden_word(secret_word, old_letters_guessed)\n",
    "#)\n",
    "#m _ m m _ _ s\n",
    "\n",
    "\n"
   ]
  },
  {
   "cell_type": "code",
   "execution_count": null,
   "id": "780c362d",
   "metadata": {},
   "outputs": [],
   "source": []
  }
 ],
 "metadata": {
  "kernelspec": {
   "display_name": "Python 3 (ipykernel)",
   "language": "python",
   "name": "python3"
  },
  "language_info": {
   "codemirror_mode": {
    "name": "ipython",
    "version": 3
   },
   "file_extension": ".py",
   "mimetype": "text/x-python",
   "name": "python",
   "nbconvert_exporter": "python",
   "pygments_lexer": "ipython3",
   "version": "3.9.7"
  }
 },
 "nbformat": 4,
 "nbformat_minor": 5
}

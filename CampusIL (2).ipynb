{
 "cells": [
  {
   "cell_type": "markdown",
   "id": "18c30d02",
   "metadata": {},
   "source": [
    "### 1.4.1"
   ]
  },
  {
   "cell_type": "code",
   "execution_count": 21,
   "id": "15eba86e",
   "metadata": {},
   "outputs": [
    {
     "name": "stdout",
     "output_type": "stream",
     "text": [
      "Welcome to the game Hangman\n",
      "    _    _\n",
      "   | |  | |\n",
      "   | |__| | __ _ _ __   __ _ _ __ ___   __ _ _ __\n",
      "   |  __  |/ _' | '_ \\ / _' | '_ ' _ \\ / _' | '_ \\\n",
      "   | |  | | (_| | | | | (_| | | | | | | (_| | | | |\n",
      "   |_|  |_|\\__,_|_| |_|\\__, |_| |_| |_|\\__,_|_| |_|\n",
      "                        __/ |\n",
      "                       |___/\n",
      "      \n",
      "a\n"
     ]
    }
   ],
   "source": [
    "import random\n",
    "\n",
    "print (\"\"\"Welcome to the game Hangman\n",
    "    _    _\n",
    "   | |  | |\n",
    "   | |__| | __ _ _ __   __ _ _ __ ___   __ _ _ __\n",
    "   |  __  |/ _' | '_ \\ / _' | '_ ' _ \\ / _' | '_ \\\\\n",
    "   | |  | | (_| | | | | (_| | | | | | | (_| | | | |\n",
    "   |_|  |_|\\__,_|_| |_|\\__, |_| |_| |_|\\__,_|_| |_|\n",
    "                        __/ |\n",
    "                       |___/\n",
    "      \"\"\")\n",
    "a = random.randint(5,11)\n",
    "print(a)"
   ]
  },
  {
   "cell_type": "markdown",
   "id": "bcab400b",
   "metadata": {},
   "source": [
    "### 1.4.2"
   ]
  },
  {
   "cell_type": "code",
   "execution_count": 24,
   "id": "ff94ce61",
   "metadata": {},
   "outputs": [
    {
     "name": "stdout",
     "output_type": "stream",
     "text": [
      "Welcome to the game Hangman\n",
      "    _    _\n",
      "   | |  | |\n",
      "   | |__| | __ _ _ __   __ _ _ __ ___   __ _ _ __\n",
      "   |  __  |/ _' | '_ \\ / _' | '_ ' _ \\ / _' | '_ \\\n",
      "   | |  | | (_| | | | | (_| | | | | | | (_| | | | |\n",
      "   |_|  |_|\\__,_|_| |_|\\__, |_| |_| |_|\\__,_|_| |_|\n",
      "                        __/ |\n",
      "                       |___/\n",
      "      \n",
      "6\n",
      "x-------x\n",
      "\n",
      "    x-------x\n",
      "    |\n",
      "    |\n",
      "    |\n",
      "    |\n",
      "    |\n",
      "\n",
      "\n",
      "    x-------x\n",
      "    |       |\n",
      "    |       0\n",
      "    |\n",
      "    |\n",
      "    |\n",
      "\n",
      "\n",
      "    x-------x\n",
      "    |       |\n",
      "    |       0\n",
      "    |       |\n",
      "    |\n",
      "    |\n",
      "\n",
      "\n",
      "    x-------x\n",
      "    |       |\n",
      "    |       0\n",
      "    |      /|\\\n",
      "    |\n",
      "    |\n",
      "\n",
      "\n",
      "    x-------x\n",
      "    |       |\n",
      "    |       0\n",
      "    |      /|\\\n",
      "    |      /\n",
      "    |\n",
      "\n",
      "\n",
      "    x-------x\n",
      "    |       |\n",
      "    |       0\n",
      "    |      /|\\\n",
      "    |      / \\\n",
      "    |\n",
      "\n"
     ]
    }
   ],
   "source": [
    "import random\n",
    "\n",
    "print (\"\"\"Welcome to the game Hangman\n",
    "    _    _\n",
    "   | |  | |\n",
    "   | |__| | __ _ _ __   __ _ _ __ ___   __ _ _ __\n",
    "   |  __  |/ _' | '_ \\ / _' | '_ ' _ \\ / _' | '_ \\\\\n",
    "   | |  | | (_| | | | | (_| | | | | | | (_| | | | |\n",
    "   |_|  |_|\\__,_|_| |_|\\__, |_| |_| |_|\\__,_|_| |_|\n",
    "                        __/ |\n",
    "                       |___/\n",
    "      \"\"\")\n",
    "a = random.randint(5,11)\n",
    "print(a)\n",
    "\n",
    "##picture 1:\n",
    "print('x-------x')\n",
    "\n",
    "##picture 2:\n",
    "print(\"\"\"\n",
    "    x-------x\n",
    "    |\n",
    "    |\n",
    "    |\n",
    "    |\n",
    "    |\n",
    "\"\"\")\n",
    "##picture 3:\n",
    "print(\"\"\"\n",
    "    x-------x\n",
    "    |       |\n",
    "    |       0\n",
    "    |\n",
    "    |\n",
    "    |\n",
    "\"\"\")\n",
    "\n",
    "##picture 4:\n",
    "print(\"\"\"\n",
    "    x-------x\n",
    "    |       |\n",
    "    |       0\n",
    "    |       |\n",
    "    |\n",
    "    |\n",
    "\"\"\")\n",
    "\n",
    "##picture 5:\n",
    "print(\"\"\"\n",
    "    x-------x\n",
    "    |       |\n",
    "    |       0\n",
    "    |      /|\\\\\n",
    "    |\n",
    "    |\n",
    "\"\"\")\n",
    "##picture 6:\n",
    "print(\"\"\"\n",
    "    x-------x\n",
    "    |       |\n",
    "    |       0\n",
    "    |      /|\\\\\n",
    "    |      /\n",
    "    |\n",
    "\"\"\")\n",
    "##picture 7:\n",
    "print(\"\"\"\n",
    "    x-------x\n",
    "    |       |\n",
    "    |       0\n",
    "    |      /|\\\\\n",
    "    |      / \\\\\n",
    "    |\n",
    "\"\"\")"
   ]
  },
  {
   "cell_type": "markdown",
   "id": "3d823a71",
   "metadata": {},
   "source": [
    "2.5.1"
   ]
  },
  {
   "cell_type": "code",
   "execution_count": 28,
   "id": "cebe31fa",
   "metadata": {},
   "outputs": [
    {
     "name": "stdout",
     "output_type": "stream",
     "text": [
      "Welcome to the game Hangman\n",
      "    _    _\n",
      "   | |  | |\n",
      "   | |__| | __ _ _ __   __ _ _ __ ___   __ _ _ __\n",
      "   |  __  |/ _' | '_ \\ / _' | '_ ' _ \\ / _' | '_ \\\n",
      "   | |  | | (_| | | | | (_| | | | | | | (_| | | | |\n",
      "   |_|  |_|\\__,_|_| |_|\\__, |_| |_| |_|\\__,_|_| |_|\n",
      "                        __/ |\n",
      "                       |___/\n",
      "      6\n"
     ]
    }
   ],
   "source": [
    "HANGMAN_ASCII_ART = (\"\"\"Welcome to the game Hangman\n",
    "    _    _\n",
    "   | |  | |\n",
    "   | |__| | __ _ _ __   __ _ _ __ ___   __ _ _ __\n",
    "   |  __  |/ _' | '_ \\ / _' | '_ ' _ \\ / _' | '_ \\\\\n",
    "   | |  | | (_| | | | | (_| | | | | | | (_| | | | |\n",
    "   |_|  |_|\\__,_|_| |_|\\__, |_| |_| |_|\\__,_|_| |_|\n",
    "                        __/ |\n",
    "                       |___/\n",
    "      \"\"\")\n",
    "MAX_TRIES = 6\n",
    "\n",
    "print(HANGMAN_ASCII_ART + str(MAX_TRIES))"
   ]
  },
  {
   "cell_type": "markdown",
   "id": "01e69139",
   "metadata": {},
   "source": [
    "### 2.5.2"
   ]
  },
  {
   "cell_type": "code",
   "execution_count": 38,
   "id": "e1830261",
   "metadata": {},
   "outputs": [
    {
     "name": "stdout",
     "output_type": "stream",
     "text": [
      "Guess a letter:x\n",
      "Welcome to the game Hangman\n",
      "    _    _\n",
      "   | |  | |\n",
      "   | |__| | __ _ _ __   __ _ _ __ ___   __ _ _ __\n",
      "   |  __  |/ _' | '_ \\ / _' | '_ ' _ \\ / _' | '_ \\\n",
      "   | |  | | (_| | | | | (_| | | | | | | (_| | | | |\n",
      "   |_|  |_|\\__,_|_| |_|\\__, |_| |_| |_|\\__,_|_| |_|\n",
      "                        __/ |\n",
      "                       |___/\n",
      "      \n",
      "Number of tries: 6\n",
      "Your letter is x\n"
     ]
    }
   ],
   "source": [
    "letter = input(\"Guess a letter:\")\n",
    "HANGMAN_ASCII_ART = (\"\"\"Welcome to the game Hangman\n",
    "    _    _\n",
    "   | |  | |\n",
    "   | |__| | __ _ _ __   __ _ _ __ ___   __ _ _ __\n",
    "   |  __  |/ _' | '_ \\ / _' | '_ ' _ \\ / _' | '_ \\\\\n",
    "   | |  | | (_| | | | | (_| | | | | | | (_| | | | |\n",
    "   |_|  |_|\\__,_|_| |_|\\__, |_| |_| |_|\\__,_|_| |_|\n",
    "                        __/ |\n",
    "                       |___/\n",
    "      \"\"\")\n",
    "MAX_TRIES = 6\n",
    "\n",
    "print(HANGMAN_ASCII_ART + \"\\n\" + \"Number of tries: \" + str(MAX_TRIES) + \"\\n\" +  \"Your letter is \" + letter)"
   ]
  },
  {
   "cell_type": "markdown",
   "id": "99e53560",
   "metadata": {},
   "source": [
    "### 3.1.1"
   ]
  },
  {
   "cell_type": "code",
   "execution_count": 39,
   "id": "adee1182",
   "metadata": {},
   "outputs": [
    {
     "name": "stdout",
     "output_type": "stream",
     "text": [
      "Hello Python 3.6.3\n"
     ]
    }
   ],
   "source": [
    "print(\"He\" + \"l\" * 2 + \"o\" + \" Python \" + str(7.2 / 2) + \".\" + str(3))"
   ]
  },
  {
   "cell_type": "markdown",
   "id": "d189f2e8",
   "metadata": {},
   "source": [
    "### 3.2.1"
   ]
  },
  {
   "cell_type": "code",
   "execution_count": 41,
   "id": "6de5dadd",
   "metadata": {},
   "outputs": [
    {
     "name": "stdout",
     "output_type": "stream",
     "text": [
      " \"Shuffle, Shuffle, Shuffle\", say it together!\n",
      "Change colors and directions,\n",
      "Don't back down and stop the player!\n",
      "        Do you want to play Taki?\n",
      "        Press y\\n\n"
     ]
    }
   ],
   "source": [
    "print(\"\"\" \"Shuffle, Shuffle, Shuffle\", say it together!\n",
    "Change colors and directions,\n",
    "Don't back down and stop the player!\n",
    "        Do you want to play Taki?\n",
    "        Press y\\\\n\"\"\")"
   ]
  },
  {
   "cell_type": "markdown",
   "id": "b7e62bbf",
   "metadata": {},
   "source": [
    "### 3.3.1"
   ]
  },
  {
   "cell_type": "code",
   "execution_count": 44,
   "id": "582ce49b",
   "metadata": {},
   "outputs": [
    {
     "name": "stdout",
     "output_type": "stream",
     "text": [
      "123456789\n"
     ]
    }
   ],
   "source": [
    "numbers = \"123456789\"\n",
    "numbers[-1:-10]\n",
    "print(numbers)"
   ]
  },
  {
   "cell_type": "markdown",
   "id": "547f49e3",
   "metadata": {},
   "source": [
    "### 3.3.2"
   ]
  },
  {
   "cell_type": "code",
   "execution_count": 57,
   "id": "9de6c1f4",
   "metadata": {},
   "outputs": [
    {
     "name": "stdout",
     "output_type": "stream",
     "text": [
      "6\n",
      "f\n",
      "ace\n",
      "b\n",
      "d\n",
      "f\n"
     ]
    }
   ],
   "source": [
    "##[0 1 2 3 4 5]\n",
    "##[s y z y g y]\n",
    "msg = 'abcdef'\n",
    "print(len(msg))\n",
    "print(msg[-1::])\n",
    "print(msg[::2])\n",
    "print(msg[1])\n",
    "print(msg[3])\n",
    "print(msg[5])"
   ]
  },
  {
   "cell_type": "markdown",
   "id": "04c288bb",
   "metadata": {},
   "source": [
    "### 3.3.3"
   ]
  },
  {
   "cell_type": "code",
   "execution_count": 86,
   "id": "b94f8e7f",
   "metadata": {},
   "outputs": [
    {
     "name": "stdout",
     "output_type": "stream",
     "text": [
      "I am learning python slicing!\n"
     ]
    }
   ],
   "source": [
    "encrypted_message = \"!XgXnXiXcXiXlXsX XnXoXhXtXyXpX XgXnXiXnXrXaXeXlX XmXaX XI\"\n",
    "length = (len(encrypted_message))\n",
    "##57\n",
    "print(encrypted_message[-1::-2])"
   ]
  },
  {
   "cell_type": "markdown",
   "id": "44da8586",
   "metadata": {},
   "source": [
    "### 4.2.2"
   ]
  },
  {
   "cell_type": "code",
   "execution_count": 99,
   "id": "bb53dd3e",
   "metadata": {},
   "outputs": [
    {
     "name": "stdout",
     "output_type": "stream",
     "text": [
      "Enter a word: borrow or rob\n",
      "OK\n"
     ]
    }
   ],
   "source": [
    "word = input(\"Enter a word: \")\n",
    "word = word.replace(\" \",\"\")\n",
    "if word[-1::-1]==word[::1]:\n",
    "    print(\"OK\")\n",
    "else: \n",
    "    print(\"NOT\")\n",
    "    "
   ]
  },
  {
   "cell_type": "code",
   "execution_count": 98,
   "id": "9b6154ef",
   "metadata": {},
   "outputs": [
    {
     "name": "stdout",
     "output_type": "stream",
     "text": [
      "Enter a word: borrow or rob\n",
      "bor ro worrob\n",
      "orrow or rob\n",
      "borroworrob\n"
     ]
    }
   ],
   "source": [
    "word = input(\"Enter a word: \")\n",
    "print(word[-1::-1])\n",
    "print(word[1::1])\n",
    "print(word.replace(\" \",\"\"))"
   ]
  },
  {
   "cell_type": "markdown",
   "id": "69654bc2",
   "metadata": {},
   "source": [
    "### 4.3.2"
   ]
  },
  {
   "cell_type": "code",
   "execution_count": 46,
   "id": "c1a7cf13",
   "metadata": {},
   "outputs": [
    {
     "name": "stdout",
     "output_type": "stream",
     "text": [
      "Insert the temperature you would like to convert: 56c\n",
      "-288.0F\n"
     ]
    }
   ],
   "source": [
    "temp = input(\"Insert the temperature you would like to convert: \" ).lower()\n",
    "dig = temp.find('\\d')\n",
    "if \"f\" in temp:\n",
    "    print(str(round((5*dig-160)/9,2)) + \"C\")\n",
    "    ##print(temp.find(\"f\"))\n",
    "elif temp.find(\"c\") != -1:\n",
    "    print(str(round((9*dig)*(32*5)/5,2)) + \"F\")\n",
    "    ##print(temp.find(\"c\"))\n",
    "else: \n",
    "    print(\"Please provide more info\")"
   ]
  },
  {
   "cell_type": "markdown",
   "id": "87b2eb04",
   "metadata": {},
   "source": [
    "### 4.2.4"
   ]
  },
  {
   "cell_type": "code",
   "execution_count": 78,
   "id": "740265ed",
   "metadata": {},
   "outputs": [
    {
     "ename": "KeyboardInterrupt",
     "evalue": "Interrupted by user",
     "output_type": "error",
     "traceback": [
      "\u001b[0;31m---------------------------------------------------------------------------\u001b[0m",
      "\u001b[0;31mKeyboardInterrupt\u001b[0m                         Traceback (most recent call last)",
      "\u001b[0;32m/var/folders/z7/wzc52j290pxfn_8cn8tbqnjh0000gq/T/ipykernel_34365/2488112724.py\u001b[0m in \u001b[0;36m<module>\u001b[0;34m\u001b[0m\n\u001b[1;32m      2\u001b[0m \u001b[0;32mimport\u001b[0m \u001b[0mtime\u001b[0m\u001b[0;34m\u001b[0m\u001b[0;34m\u001b[0m\u001b[0m\n\u001b[1;32m      3\u001b[0m \u001b[0;34m\u001b[0m\u001b[0m\n\u001b[0;32m----> 4\u001b[0;31m \u001b[0mdate\u001b[0m \u001b[0;34m=\u001b[0m \u001b[0minput\u001b[0m\u001b[0;34m(\u001b[0m\u001b[0;34m\"Enter a date: \"\u001b[0m \u001b[0;34m)\u001b[0m\u001b[0;34m\u001b[0m\u001b[0;34m\u001b[0m\u001b[0m\n\u001b[0m\u001b[1;32m      5\u001b[0m \u001b[0mprint\u001b[0m\u001b[0;34m(\u001b[0m\u001b[0mtime\u001b[0m\u001b[0;34m.\u001b[0m\u001b[0mstrptime\u001b[0m\u001b[0;34m(\u001b[0m\u001b[0mdate\u001b[0m\u001b[0;34m,\u001b[0m \u001b[0;34m'%Y'\u001b[0m\u001b[0;34m)\u001b[0m\u001b[0;34m)\u001b[0m\u001b[0;34m\u001b[0m\u001b[0;34m\u001b[0m\u001b[0m\n\u001b[1;32m      6\u001b[0m \u001b[0;34m\u001b[0m\u001b[0m\n",
      "\u001b[0;32m/Applications/anaconda3/lib/python3.9/site-packages/ipykernel/kernelbase.py\u001b[0m in \u001b[0;36mraw_input\u001b[0;34m(self, prompt)\u001b[0m\n\u001b[1;32m   1004\u001b[0m                 \u001b[0;34m\"raw_input was called, but this frontend does not support input requests.\"\u001b[0m\u001b[0;34m\u001b[0m\u001b[0;34m\u001b[0m\u001b[0m\n\u001b[1;32m   1005\u001b[0m             )\n\u001b[0;32m-> 1006\u001b[0;31m         return self._input_request(\n\u001b[0m\u001b[1;32m   1007\u001b[0m             \u001b[0mstr\u001b[0m\u001b[0;34m(\u001b[0m\u001b[0mprompt\u001b[0m\u001b[0;34m)\u001b[0m\u001b[0;34m,\u001b[0m\u001b[0;34m\u001b[0m\u001b[0;34m\u001b[0m\u001b[0m\n\u001b[1;32m   1008\u001b[0m             \u001b[0mself\u001b[0m\u001b[0;34m.\u001b[0m\u001b[0m_parent_ident\u001b[0m\u001b[0;34m[\u001b[0m\u001b[0;34m\"shell\"\u001b[0m\u001b[0;34m]\u001b[0m\u001b[0;34m,\u001b[0m\u001b[0;34m\u001b[0m\u001b[0;34m\u001b[0m\u001b[0m\n",
      "\u001b[0;32m/Applications/anaconda3/lib/python3.9/site-packages/ipykernel/kernelbase.py\u001b[0m in \u001b[0;36m_input_request\u001b[0;34m(self, prompt, ident, parent, password)\u001b[0m\n\u001b[1;32m   1049\u001b[0m             \u001b[0;32mexcept\u001b[0m \u001b[0mKeyboardInterrupt\u001b[0m\u001b[0;34m:\u001b[0m\u001b[0;34m\u001b[0m\u001b[0;34m\u001b[0m\u001b[0m\n\u001b[1;32m   1050\u001b[0m                 \u001b[0;31m# re-raise KeyboardInterrupt, to truncate traceback\u001b[0m\u001b[0;34m\u001b[0m\u001b[0;34m\u001b[0m\u001b[0m\n\u001b[0;32m-> 1051\u001b[0;31m                 \u001b[0;32mraise\u001b[0m \u001b[0mKeyboardInterrupt\u001b[0m\u001b[0;34m(\u001b[0m\u001b[0;34m\"Interrupted by user\"\u001b[0m\u001b[0;34m)\u001b[0m \u001b[0;32mfrom\u001b[0m \u001b[0;32mNone\u001b[0m\u001b[0;34m\u001b[0m\u001b[0;34m\u001b[0m\u001b[0m\n\u001b[0m\u001b[1;32m   1052\u001b[0m             \u001b[0;32mexcept\u001b[0m \u001b[0mException\u001b[0m\u001b[0;34m:\u001b[0m\u001b[0;34m\u001b[0m\u001b[0;34m\u001b[0m\u001b[0m\n\u001b[1;32m   1053\u001b[0m                 \u001b[0mself\u001b[0m\u001b[0;34m.\u001b[0m\u001b[0mlog\u001b[0m\u001b[0;34m.\u001b[0m\u001b[0mwarning\u001b[0m\u001b[0;34m(\u001b[0m\u001b[0;34m\"Invalid Message:\"\u001b[0m\u001b[0;34m,\u001b[0m \u001b[0mexc_info\u001b[0m\u001b[0;34m=\u001b[0m\u001b[0;32mTrue\u001b[0m\u001b[0;34m)\u001b[0m\u001b[0;34m\u001b[0m\u001b[0;34m\u001b[0m\u001b[0m\n",
      "\u001b[0;31mKeyboardInterrupt\u001b[0m: Interrupted by user"
     ]
    }
   ],
   "source": [
    "import calendar\n",
    "import time\n",
    "\n",
    "date = input(\"Enter a date: \" )\n",
    "print(time.strptime(date, '%Y'))\n",
    "\n",
    "##print(calendar.weekday(date[-1::-4], date[3:2], date[0:2]))"
   ]
  },
  {
   "cell_type": "markdown",
   "id": "fe3e8494",
   "metadata": {},
   "source": [
    "### 5.3.4"
   ]
  },
  {
   "cell_type": "code",
   "execution_count": 77,
   "id": "1feda230",
   "metadata": {},
   "outputs": [
    {
     "data": {
      "text/plain": [
       "True"
      ]
     },
     "execution_count": 77,
     "metadata": {},
     "output_type": "execute_result"
    }
   ],
   "source": [
    "def last_early(my_str):\n",
    "    cut_str = my_str[:-1]\n",
    "    last_str = my_str[-1:]\n",
    "    if cut_str.find(last_str) != -1:\n",
    "       return True\n",
    "    else:\n",
    "        return False\n",
    "\n",
    "last_early(\"happy birthday\")"
   ]
  },
  {
   "cell_type": "code",
   "execution_count": 71,
   "id": "801525ee",
   "metadata": {},
   "outputs": [
    {
     "name": "stdout",
     "output_type": "stream",
     "text": [
      "happy birthda\n",
      "y\n"
     ]
    }
   ],
   "source": [
    "####################### QA #######################\n",
    "def last_early(my_str):\n",
    "    cut_str = my_str[:-1]\n",
    "    print(cut_str)\n",
    "    last_str = my_str[-1:]\n",
    "    print(last_str)\n",
    "\n",
    "last_early(\"happy birthday\")"
   ]
  },
  {
   "cell_type": "markdown",
   "id": "a9368757",
   "metadata": {},
   "source": [
    "### 5.3.5"
   ]
  },
  {
   "cell_type": "code",
   "execution_count": 91,
   "id": "fb0996ed",
   "metadata": {},
   "outputs": [
    {
     "data": {
      "text/plain": [
       "True"
      ]
     },
     "execution_count": 91,
     "metadata": {},
     "output_type": "execute_result"
    }
   ],
   "source": [
    "def distance(num1, num2, num3):\n",
    "    if (abs(num2-num1)==1 or abs(num3-num1)==1) and ((abs(num2-num3)>2 or abs(num2-num1)>2) or (abs(num3-num2)>2 or abs(num3-num1)>2)):\n",
    "        return True\n",
    "    else:\n",
    "        return False\n",
    "\n",
    "distance(1, 2, 10)\n",
    "##distance(4, 5, 3)"
   ]
  },
  {
   "cell_type": "markdown",
   "id": "c611e348",
   "metadata": {},
   "source": [
    "### 5.3.6"
   ]
  },
  {
   "cell_type": "code",
   "execution_count": 114,
   "id": "f95808b0",
   "metadata": {},
   "outputs": [
    {
     "data": {
      "text/plain": [
       "6"
      ]
     },
     "execution_count": 114,
     "metadata": {},
     "output_type": "execute_result"
    }
   ],
   "source": [
    "def fix_age(age):\n",
    "    print(age)\n",
    "    return 0\n",
    "\n",
    "def filter_teens(a=13, b=13, c=13):\n",
    "    age_a=a\n",
    "    age_b=b\n",
    "    age_c=c\n",
    "    if 13<=a<=14 or 17<=a<=19:\n",
    "        age_a = fix_age(a)\n",
    "        print(\"a =\" + str(age_a))\n",
    "    if 13<=b<=14 or 17<=b<=19:\n",
    "        age_b = fix_age(b)\n",
    "        print(\"b =\" + str(age_b))\n",
    "    if 13<=c<=14 or 17<=c<=19:\n",
    "        age_c = fix_age(c)\n",
    "        print(\"c =\" + str(age_c))    \n",
    "    return age_a+age_b+age_c        \n",
    "        \n",
    "##filter_teens(2, 13, 1)\n",
    "##filter_teens(2, 1, 15)\n",
    "filter_teens(1, 2, 3)\n",
    "##filter_teens()"
   ]
  },
  {
   "cell_type": "markdown",
   "id": "ed10cd7b",
   "metadata": {},
   "source": [
    "### 5.3.7"
   ]
  },
  {
   "cell_type": "code",
   "execution_count": 123,
   "id": "7e69b1f3",
   "metadata": {},
   "outputs": [
    {
     "data": {
      "text/plain": [
       "True"
      ]
     },
     "execution_count": 123,
     "metadata": {},
     "output_type": "execute_result"
    }
   ],
   "source": [
    "def chocolate_maker(small, big, x):\n",
    "    if small*1 + big*5 >= x:\n",
    "        return True\n",
    "    else:\n",
    "        return False\n",
    "\n",
    "chocolate_maker(3, 1, 8)\n",
    "##chocolate_maker(3, 1, 9)\n",
    "##chocolate_maker(3, 2, 10)"
   ]
  },
  {
   "cell_type": "markdown",
   "id": "25de6941",
   "metadata": {},
   "source": [
    "### 6.1.2"
   ]
  },
  {
   "cell_type": "code",
   "execution_count": 152,
   "id": "a5c5838b",
   "metadata": {},
   "outputs": [
    {
     "name": "stdout",
     "output_type": "stream",
     "text": [
      "[1, 2]\n",
      "None\n"
     ]
    }
   ],
   "source": [
    "#### DEBUG ####\n",
    "def shift_left(my_list):\n",
    "    first = my_list[:1]\n",
    "    remain = my_list[1:]\n",
    "    print(remain)\n",
    "    fixed = my_list.insert(len(remain),first)\n",
    "    #fixed = my_list.append(first)\n",
    "    print(fixed)\n",
    "\n",
    "shift_left([0, 1, 2])"
   ]
  },
  {
   "cell_type": "code",
   "execution_count": 149,
   "id": "72f9877d",
   "metadata": {},
   "outputs": [
    {
     "data": {
      "text/plain": [
       "[2.0, 1, 'monkey']"
      ]
     },
     "execution_count": 149,
     "metadata": {},
     "output_type": "execute_result"
    }
   ],
   "source": [
    "def shift_left(my_list):\n",
    "    first = my_list[:1]\n",
    "    remain = my_list[1:]\n",
    "    #print(remain)\n",
    "    fixed = remain + first\n",
    "    #print(fixed)\n",
    "    return fixed\n",
    "\n",
    "#shift_left([0, 1, 2])\n",
    "shift_left(['monkey', 2.0, 1])"
   ]
  },
  {
   "cell_type": "code",
   "execution_count": 157,
   "id": "2fb0ed9c",
   "metadata": {},
   "outputs": [
    {
     "name": "stdout",
     "output_type": "stream",
     "text": [
      "7\n",
      "[1, 2, 3, 4, 5, 6, 7]\n",
      "1\n",
      "[[1, 2, 3, 4, 5, 6, 7]]\n"
     ]
    }
   ],
   "source": [
    ">>> list1 = [1, 2, 3, 4]\n",
    ">>> list2 = [5,6,7]\n",
    ">>> list3 = list1 + list2\n",
    "print(len(list3))\n",
    "print(list3)\n",
    ">>> list4 = [list1 + list2]\n",
    "print(len(list4))\n",
    "print(list4)"
   ]
  },
  {
   "cell_type": "markdown",
   "id": "0c8d4f4b",
   "metadata": {},
   "source": [
    "### 6.2.3"
   ]
  },
  {
   "cell_type": "code",
   "execution_count": 193,
   "id": "5738ce73",
   "metadata": {},
   "outputs": [
    {
     "name": "stdout",
     "output_type": "stream",
     "text": [
      "hydrogen, lithium, boron\n",
      "hydrogen, lithium, boron and magnesium\n"
     ]
    }
   ],
   "source": [
    "###SAGI - why doesnt it prints the \"and\"\n",
    "my_list = [\"hydrogen\", \"helium\", \"lithium\", \"beryllium\", \"boron\", \"magnesium\"]\n",
    "\n",
    "def format_list(my_list):\n",
    "    #mySeparator = \", \"\n",
    "    #newlist = str(my_list[:len(my_list)-1:2]).strip('[]').replace(\"'\",\"\")\n",
    "    newlist = my_list[:len(my_list)-1:2]\n",
    "    newlist = \", \".join(newlist)\n",
    "    #print(newlist)\n",
    "    print(newlist + \" and \" + my_list.pop())\n",
    "    \n",
    "format_list(my_list)"
   ]
  },
  {
   "cell_type": "markdown",
   "id": "2af02392",
   "metadata": {},
   "source": [
    "### 6.2.4"
   ]
  },
  {
   "cell_type": "code",
   "execution_count": 198,
   "id": "f880050f",
   "metadata": {},
   "outputs": [
    {
     "name": "stdout",
     "output_type": "stream",
     "text": [
      "[1, 2, 3, 4, 5, 6]\n"
     ]
    }
   ],
   "source": [
    "###SAGI - how can this be done without + or extend()\n",
    "def extend_list_x(list_x, list_y):\n",
    "    #final = list_x.extend(list_y)\n",
    "    final = list_y + list_x\n",
    "    print(final)\n",
    "    \n",
    "x = [4, 5, 6]\n",
    "y = [1, 2, 3]\n",
    "extend_list_x(x, y)"
   ]
  },
  {
   "cell_type": "markdown",
   "id": "58399f92",
   "metadata": {},
   "source": [
    "### 6.3.1"
   ]
  },
  {
   "cell_type": "code",
   "execution_count": 205,
   "id": "cae1759e",
   "metadata": {},
   "outputs": [
    {
     "data": {
      "text/plain": [
       "True"
      ]
     },
     "execution_count": 205,
     "metadata": {},
     "output_type": "execute_result"
    }
   ],
   "source": [
    "def are_lists_equal(list1, list2):\n",
    "    list1.sort()\n",
    "    list2.sort()\n",
    "    if list1 == list2:\n",
    "        return True\n",
    "    else:\n",
    "        return False\n",
    "    \n",
    "list1 = [0.6, 1, 2, 3]\n",
    "list2 = [3, 2, 0.6, 1]\n",
    "list3 = [9, 0, 5, 10.5]\n",
    "are_lists_equal(list1, list2)\n",
    "#are_lists_equal(list1, list3)"
   ]
  },
  {
   "cell_type": "markdown",
   "id": "1f65fa0d",
   "metadata": {},
   "source": [
    "### 6.3.2"
   ]
  },
  {
   "cell_type": "code",
   "execution_count": 208,
   "id": "c9db9238",
   "metadata": {},
   "outputs": [
    {
     "name": "stdout",
     "output_type": "stream",
     "text": [
      "birthday\n"
     ]
    }
   ],
   "source": [
    "def longest(my_list):\n",
    "    print(max(my_list, key=len))\n",
    "    \n",
    "    \n",
    "list1 = [\"111\", \"234\", \"2000\", \"goru\", \"birthday\", \"09\"]\n",
    "longest(list1)\n",
    "#birthday"
   ]
  },
  {
   "cell_type": "code",
   "execution_count": 209,
   "id": "465c7da7",
   "metadata": {},
   "outputs": [
    {
     "name": "stdout",
     "output_type": "stream",
     "text": [
      "wow\n",
      "wow\n"
     ]
    }
   ],
   "source": [
    "i = 1\n",
    "while i < 3:\n",
    "    print('wow')\n",
    "    i += 1"
   ]
  },
  {
   "cell_type": "code",
   "execution_count": 210,
   "id": "4a152220",
   "metadata": {},
   "outputs": [
    {
     "name": "stdout",
     "output_type": "stream",
     "text": [
      "6\n"
     ]
    }
   ],
   "source": [
    "x = 3\n",
    "i = 0\n",
    "while (i < 3):\n",
    "    x += 1\n",
    "    i += 1\n",
    "print(x)"
   ]
  },
  {
   "cell_type": "markdown",
   "id": "0b138fb0",
   "metadata": {},
   "source": [
    "### 7.4.1"
   ]
  },
  {
   "cell_type": "code",
   "execution_count": 1,
   "id": "90531c58",
   "metadata": {},
   "outputs": [
    {
     "name": "stdout",
     "output_type": "stream",
     "text": [
      "9\n",
      "4\n",
      "1\n",
      "0\n",
      "1\n",
      "4\n",
      "9\n"
     ]
    }
   ],
   "source": [
    "def squared_numbers(start, stop):\n",
    "    while start<=stop:\n",
    "        print(start ** 2)\n",
    "        start += 1    \n",
    "    \n",
    "#squared_numbers(4, 8)\n",
    "#[16, 25, 36, 49, 64]\n",
    "squared_numbers(-3, 3)\n",
    "#[9, 4, 1, 0, 1, 4, 9]"
   ]
  },
  {
   "cell_type": "markdown",
   "id": "6e362ce3",
   "metadata": {},
   "source": [
    "##### 7.2.1 unsolved"
   ]
  },
  {
   "cell_type": "code",
   "execution_count": 222,
   "id": "5869dc43",
   "metadata": {},
   "outputs": [
    {
     "ename": "SyntaxError",
     "evalue": "invalid syntax (948815722.py, line 3)",
     "output_type": "error",
     "traceback": [
      "\u001b[0;36m  File \u001b[0;32m\"/var/folders/z7/wzc52j290pxfn_8cn8tbqnjh0000gq/T/ipykernel_34365/948815722.py\"\u001b[0;36m, line \u001b[0;32m3\u001b[0m\n\u001b[0;31m    for n < my_list[i]:\u001b[0m\n\u001b[0m                      ^\u001b[0m\n\u001b[0;31mSyntaxError\u001b[0m\u001b[0;31m:\u001b[0m invalid syntax\n"
     ]
    }
   ],
   "source": [
    "def is_greater(my_list, n):\n",
    "    i=0\n",
    "    for n < my_list[i]:\n",
    "        print(my_list[i])\n",
    "        i+=1\n",
    "\n",
    "result = is_greater([1, 30, 25, 60, 27, 28], 28)\n",
    "print(result)\n",
    "#[30, 60]"
   ]
  },
  {
   "cell_type": "markdown",
   "id": "c64abae5",
   "metadata": {},
   "source": [
    "### 7.2.2"
   ]
  },
  {
   "cell_type": "code",
   "execution_count": 17,
   "id": "582133a1",
   "metadata": {},
   "outputs": [
    {
     "name": "stdout",
     "output_type": "stream",
     "text": [
      "12\n",
      "[3, 9]\n"
     ]
    }
   ],
   "source": [
    "def numbers_letters_count(my_str):\n",
    "    alpha=0\n",
    "    print(len(my_str))\n",
    "    ls=[]\n",
    "    for i in my_str: \n",
    "        if i.isdigit():\n",
    "            ls.append(i)\n",
    "    return list([len(ls),len(my_str)-len(ls)]) \n",
    "    \n",
    "print(numbers_letters_count(\"Python 3.6.3\"))\n",
    "#[3, 9]"
   ]
  },
  {
   "cell_type": "markdown",
   "id": "fc19c0f4",
   "metadata": {},
   "source": [
    "### 7.2.4"
   ]
  },
  {
   "cell_type": "code",
   "execution_count": 22,
   "id": "50fe72c7",
   "metadata": {},
   "outputs": [
    {
     "name": "stdout",
     "output_type": "stream",
     "text": [
      "['BOOM', 1, 2, 3, 4, 5, 6, 'BOOM', 8, 9, 10, 11, 12, 13, 'BOOM', 15, 16, 17]\n"
     ]
    }
   ],
   "source": [
    "def seven_boom(end_number):\n",
    "    l = []\n",
    "    for n in range(0,end_number+1,1):\n",
    "        if n == 7 or n % 7==0:\n",
    "            l.append('BOOM')\n",
    "        else:\n",
    "            l.append(n)\n",
    "    return l\n",
    "    \n",
    "print(seven_boom(17))\n",
    "#['BOOM', 1, 2, 3, 4, 5, 6, 'BOOM', 8, 9, 10, 11, 12, 13, 'BOOM', 15, 16, 'BOOM']"
   ]
  },
  {
   "cell_type": "code",
   "execution_count": null,
   "id": "d028831f",
   "metadata": {},
   "outputs": [],
   "source": [
    "##regex exmple\n",
    "import re\n",
    "\n",
    "def seven_boom(end_number):\n",
    "    l = range(0,end_number+1,1)\n",
    "    \n",
    "    if n == 7 or n % 7==0:\n",
    "            l.append('BOOM')\n",
    "        else:\n",
    "            l.append(n)\n",
    "    return l\n",
    "    \n",
    "print(seven_boom(17))"
   ]
  },
  {
   "cell_type": "markdown",
   "id": "b1f70908",
   "metadata": {},
   "source": [
    "### 7.2.5"
   ]
  },
  {
   "cell_type": "code",
   "execution_count": 249,
   "id": "bfe06a90",
   "metadata": {},
   "outputs": [
    {
     "ename": "TypeError",
     "evalue": "can only concatenate str (not \"int\") to str",
     "output_type": "error",
     "traceback": [
      "\u001b[0;31m---------------------------------------------------------------------------\u001b[0m",
      "\u001b[0;31mTypeError\u001b[0m                                 Traceback (most recent call last)",
      "\u001b[0;32m/var/folders/z7/wzc52j290pxfn_8cn8tbqnjh0000gq/T/ipykernel_34365/3298324366.py\u001b[0m in \u001b[0;36m<module>\u001b[0;34m\u001b[0m\n\u001b[1;32m      8\u001b[0m \u001b[0;34m\u001b[0m\u001b[0m\n\u001b[1;32m      9\u001b[0m \u001b[0;34m\u001b[0m\u001b[0m\n\u001b[0;32m---> 10\u001b[0;31m \u001b[0msequence_del\u001b[0m\u001b[0;34m(\u001b[0m\u001b[0;34m\"ppyyyyythhhhhooonnnnn\"\u001b[0m\u001b[0;34m)\u001b[0m\u001b[0;34m\u001b[0m\u001b[0;34m\u001b[0m\u001b[0m\n\u001b[0m\u001b[1;32m     11\u001b[0m \u001b[0;31m#'python'\u001b[0m\u001b[0;34m\u001b[0m\u001b[0;34m\u001b[0m\u001b[0m\n\u001b[1;32m     12\u001b[0m \u001b[0;31m#sequence_del(\"SSSSsssshhhh\")\u001b[0m\u001b[0;34m\u001b[0m\u001b[0;34m\u001b[0m\u001b[0m\n",
      "\u001b[0;32m/var/folders/z7/wzc52j290pxfn_8cn8tbqnjh0000gq/T/ipykernel_34365/3298324366.py\u001b[0m in \u001b[0;36msequence_del\u001b[0;34m(my_str)\u001b[0m\n\u001b[1;32m      2\u001b[0m \u001b[0;34m\u001b[0m\u001b[0m\n\u001b[1;32m      3\u001b[0m     \u001b[0;32mfor\u001b[0m \u001b[0mn\u001b[0m \u001b[0;32min\u001b[0m \u001b[0mmy_str\u001b[0m\u001b[0;34m:\u001b[0m\u001b[0;34m\u001b[0m\u001b[0;34m\u001b[0m\u001b[0m\n\u001b[0;32m----> 4\u001b[0;31m         \u001b[0mlag\u001b[0m \u001b[0;34m=\u001b[0m \u001b[0mn\u001b[0m\u001b[0;34m+\u001b[0m\u001b[0;36m1\u001b[0m\u001b[0;34m\u001b[0m\u001b[0;34m\u001b[0m\u001b[0m\n\u001b[0m\u001b[1;32m      5\u001b[0m         \u001b[0;32mif\u001b[0m \u001b[0mn\u001b[0m\u001b[0;34m!=\u001b[0m\u001b[0mmy_str\u001b[0m\u001b[0;34m(\u001b[0m\u001b[0mlag\u001b[0m\u001b[0;34m)\u001b[0m\u001b[0;34m:\u001b[0m\u001b[0;34m\u001b[0m\u001b[0;34m\u001b[0m\u001b[0m\n\u001b[1;32m      6\u001b[0m             \u001b[0mprint\u001b[0m\u001b[0;34m(\u001b[0m\u001b[0mn\u001b[0m\u001b[0;34m)\u001b[0m\u001b[0;34m\u001b[0m\u001b[0;34m\u001b[0m\u001b[0m\n",
      "\u001b[0;31mTypeError\u001b[0m: can only concatenate str (not \"int\") to str"
     ]
    }
   ],
   "source": [
    "def sequence_del(my_str):\n",
    "    \n",
    "    for n in my_str:\n",
    "        lag = n+1\n",
    "        if n!=my_str(lag):\n",
    "            print(n)\n",
    "\n",
    "\n",
    "\n",
    "sequence_del(\"ppyyyyythhhhhooonnnnn\")\n",
    "#'python'\n",
    "#sequence_del(\"SSSSsssshhhh\")\n",
    "#'Ssh'\n",
    "#sequence_del(\"Heeyyy   yyouuuu!!!\")\n",
    "#'Hey you!'"
   ]
  },
  {
   "cell_type": "markdown",
   "id": "12f785b3",
   "metadata": {},
   "source": [
    "##### 7.2.6 unsolved"
   ]
  },
  {
   "cell_type": "code",
   "execution_count": null,
   "id": "df04edbb",
   "metadata": {},
   "outputs": [],
   "source": []
  },
  {
   "cell_type": "markdown",
   "id": "691d2da2",
   "metadata": {},
   "source": [
    "##### 7.2.7 unsolved"
   ]
  },
  {
   "cell_type": "code",
   "execution_count": 6,
   "id": "86c7a82a",
   "metadata": {},
   "outputs": [
    {
     "name": "stdout",
     "output_type": "stream",
     "text": [
      "\n",
      "-5\n",
      "\n",
      "-4\n",
      "\n",
      "-3\n",
      "\n",
      "-2\n",
      "\n",
      "-1\n",
      "\n",
      "0\n",
      "*\n",
      "1\n",
      "**\n",
      "2\n",
      "***\n",
      "3\n",
      "****\n",
      "4\n",
      "*****\n",
      "5\n",
      "None\n"
     ]
    }
   ],
   "source": [
    "def arrow(my_char, max_length):\n",
    "    for n in range(-max_length,max_length+1,1):\n",
    "        print(my_char*n)\n",
    "        print(n)\n",
    "    \n",
    "print(arrow('*', 5))"
   ]
  },
  {
   "cell_type": "code",
   "execution_count": 1,
   "id": "8af49edb",
   "metadata": {},
   "outputs": [
    {
     "data": {
      "text/plain": [
       "[2, 3, 4]"
      ]
     },
     "execution_count": 1,
     "metadata": {},
     "output_type": "execute_result"
    }
   ],
   "source": [
    "tuple_four = (4, 2, 3)\n",
    "sorted(tuple_four)\n"
   ]
  },
  {
   "cell_type": "markdown",
   "id": "80d19297",
   "metadata": {},
   "source": [
    "### 8.2.1 QA - How to print float with declared decimal"
   ]
  },
  {
   "cell_type": "code",
   "execution_count": 33,
   "id": "d8fb10a8",
   "metadata": {},
   "outputs": [
    {
     "name": "stdout",
     "output_type": "stream",
     "text": [
      "Hello self.py learner, you have only 1.543 units left before you master the course!\n"
     ]
    }
   ],
   "source": [
    "data = (\"self\", \"py\", 1.543)\n",
    "format_string = \"Hello %s.%s learner, you have only %s units left before you master the course!\"\n",
    "\n",
    "print(format_string %data)\n",
    "\n",
    "#Hello self.py learner, you have only 1.5 units left before you master the course!"
   ]
  },
  {
   "cell_type": "code",
   "execution_count": 30,
   "id": "98061f7d",
   "metadata": {},
   "outputs": [
    {
     "name": "stdout",
     "output_type": "stream",
     "text": [
      "giacomo 4.3 4 4.300000 4.3\n"
     ]
    }
   ],
   "source": [
    "name ='giacomo'\n",
    "number = 4.3\n",
    "print('%s %s %d %f %g' % (name, number, number, number, number))"
   ]
  },
  {
   "cell_type": "markdown",
   "id": "b2a2a89e",
   "metadata": {},
   "source": [
    "### 8.2.2"
   ]
  },
  {
   "cell_type": "code",
   "execution_count": 42,
   "id": "8292afc1",
   "metadata": {},
   "outputs": [
    {
     "name": "stdout",
     "output_type": "stream",
     "text": [
      "[('bread', '9.0'), ('milk', '5.5'), ('candy', '2.5')]\n"
     ]
    }
   ],
   "source": [
    "def MyFn(s):\n",
    "    return s[1]\n",
    "\n",
    "def sort_prices(list_of_tuples):\n",
    "    print(sorted(list_of_tuples, reverse=True, key=MyFn)) \n",
    "    \n",
    "products = [('milk', '5.5'), ('candy', '2.5'), ('bread', '9.0')]\n",
    "sort_prices(products)\n",
    "#[('bread', '9.0'), ('milk', '5.5'), ('candy', '2.5')]"
   ]
  },
  {
   "cell_type": "markdown",
   "id": "3aa75c85",
   "metadata": {},
   "source": [
    "##### 8.2.3 unsolved"
   ]
  },
  {
   "cell_type": "code",
   "execution_count": 44,
   "id": "251b6418",
   "metadata": {},
   "outputs": [
    {
     "ename": "IndentationError",
     "evalue": "expected an indented block (1934455389.py, line 5)",
     "output_type": "error",
     "traceback": [
      "\u001b[0;36m  File \u001b[0;32m\"/var/folders/z7/wzc52j290pxfn_8cn8tbqnjh0000gq/T/ipykernel_12422/1934455389.py\"\u001b[0;36m, line \u001b[0;32m5\u001b[0m\n\u001b[0;31m    first_tuple = (1, 2)\u001b[0m\n\u001b[0m    ^\u001b[0m\n\u001b[0;31mIndentationError\u001b[0m\u001b[0;31m:\u001b[0m expected an indented block\n"
     ]
    }
   ],
   "source": [
    "def mult_tuple(tuple1, tuple2):\n",
    "    \n",
    "    \n",
    "    \n",
    "first_tuple = (1, 2)\n",
    "second_tuple = (4, 5)\n",
    "mult_tuple(first_tuple, second_tuple)\n",
    "#((1, 4), (4, 1), (1, 5), (5, 1), (2, 4), (4, 2), (2, 5), (5, 2))\n",
    "\n",
    "#first_tuple = (1, 2, 3)\n",
    "#second_tuple = (4, 5, 6)\n",
    "#mult_tuple(first_tuple, second_tuple)\n",
    "#((1, 4), (1, 5), (1, 6), (2, 4), (2, 5), (2, 6), (3, 4), (3, 5), (3, 6), (4, 1), (5, 1), (6, 1), (4, 2), (5, 2), (6, 2), (4, 3), (5, 3), (6, 3))   "
   ]
  },
  {
   "cell_type": "markdown",
   "id": "0fd85c07",
   "metadata": {},
   "source": [
    "##### 8.2.4 unsolved"
   ]
  },
  {
   "cell_type": "code",
   "execution_count": 52,
   "id": "40c5e4b8",
   "metadata": {},
   "outputs": [
    {
     "ename": "TypeError",
     "evalue": "string argument without an encoding",
     "output_type": "error",
     "traceback": [
      "\u001b[0;31m---------------------------------------------------------------------------\u001b[0m",
      "\u001b[0;31mTypeError\u001b[0m                                 Traceback (most recent call last)",
      "\u001b[0;32m/var/folders/z7/wzc52j290pxfn_8cn8tbqnjh0000gq/T/ipykernel_12422/2237272393.py\u001b[0m in \u001b[0;36m<module>\u001b[0;34m\u001b[0m\n\u001b[1;32m     10\u001b[0m \u001b[0;34m\u001b[0m\u001b[0m\n\u001b[1;32m     11\u001b[0m \u001b[0mlist_of_words\u001b[0m \u001b[0;34m=\u001b[0m \u001b[0;34m[\u001b[0m\u001b[0;34m'deltas'\u001b[0m\u001b[0;34m,\u001b[0m \u001b[0;34m'retainers'\u001b[0m\u001b[0;34m,\u001b[0m \u001b[0;34m'desalt'\u001b[0m\u001b[0;34m,\u001b[0m \u001b[0;34m'pants'\u001b[0m\u001b[0;34m,\u001b[0m \u001b[0;34m'slated'\u001b[0m\u001b[0;34m,\u001b[0m \u001b[0;34m'generating'\u001b[0m\u001b[0;34m,\u001b[0m \u001b[0;34m'ternaries'\u001b[0m\u001b[0;34m,\u001b[0m \u001b[0;34m'smelters'\u001b[0m\u001b[0;34m,\u001b[0m \u001b[0;34m'termless'\u001b[0m\u001b[0;34m,\u001b[0m \u001b[0;34m'salted'\u001b[0m\u001b[0;34m,\u001b[0m \u001b[0;34m'staled'\u001b[0m\u001b[0;34m,\u001b[0m \u001b[0;34m'greatening'\u001b[0m\u001b[0;34m,\u001b[0m \u001b[0;34m'lasted'\u001b[0m\u001b[0;34m,\u001b[0m \u001b[0;34m'resmelts'\u001b[0m\u001b[0;34m]\u001b[0m\u001b[0;34m\u001b[0m\u001b[0;34m\u001b[0m\u001b[0m\n\u001b[0;32m---> 12\u001b[0;31m \u001b[0msort_anagrams\u001b[0m\u001b[0;34m(\u001b[0m\u001b[0mlist_of_words\u001b[0m\u001b[0;34m)\u001b[0m\u001b[0;34m\u001b[0m\u001b[0;34m\u001b[0m\u001b[0m\n\u001b[0m\u001b[1;32m     13\u001b[0m \u001b[0;31m#[['deltas', 'desalt', 'slated', 'salted', 'staled', 'lasted'], ['retainers', 'ternaries'], ['pants'], ['generating', 'greatening'], ['smelters', 'termless', 'resmelts']]\u001b[0m\u001b[0;34m\u001b[0m\u001b[0;34m\u001b[0m\u001b[0m\n\u001b[1;32m     14\u001b[0m \u001b[0;34m\u001b[0m\u001b[0m\n",
      "\u001b[0;32m/var/folders/z7/wzc52j290pxfn_8cn8tbqnjh0000gq/T/ipykernel_12422/2237272393.py\u001b[0m in \u001b[0;36msort_anagrams\u001b[0;34m(list_of_strings)\u001b[0m\n\u001b[1;32m      2\u001b[0m     \u001b[0;32mfor\u001b[0m \u001b[0mi\u001b[0m \u001b[0;32min\u001b[0m \u001b[0mrange\u001b[0m\u001b[0;34m(\u001b[0m\u001b[0mlen\u001b[0m\u001b[0;34m(\u001b[0m\u001b[0mlist_of_strings\u001b[0m\u001b[0;34m)\u001b[0m\u001b[0;34m)\u001b[0m\u001b[0;34m:\u001b[0m\u001b[0;34m\u001b[0m\u001b[0;34m\u001b[0m\u001b[0m\n\u001b[1;32m      3\u001b[0m         \u001b[0;32mfor\u001b[0m \u001b[0mj\u001b[0m \u001b[0;32min\u001b[0m \u001b[0mrange\u001b[0m\u001b[0;34m(\u001b[0m\u001b[0mlen\u001b[0m\u001b[0;34m(\u001b[0m\u001b[0mlist_of_strings\u001b[0m\u001b[0;34m)\u001b[0m\u001b[0;34m)\u001b[0m\u001b[0;34m:\u001b[0m\u001b[0;34m\u001b[0m\u001b[0;34m\u001b[0m\u001b[0m\n\u001b[0;32m----> 4\u001b[0;31m             \u001b[0;32mif\u001b[0m \u001b[0msum\u001b[0m\u001b[0;34m(\u001b[0m\u001b[0mbytearray\u001b[0m\u001b[0;34m(\u001b[0m\u001b[0mlist_of_strings\u001b[0m\u001b[0;34m[\u001b[0m\u001b[0mi\u001b[0m\u001b[0;34m]\u001b[0m\u001b[0;34m)\u001b[0m\u001b[0;34m)\u001b[0m \u001b[0;34m==\u001b[0m \u001b[0msum\u001b[0m\u001b[0;34m(\u001b[0m\u001b[0mbytearray\u001b[0m\u001b[0;34m(\u001b[0m\u001b[0mlist_of_strings\u001b[0m\u001b[0;34m[\u001b[0m\u001b[0mj\u001b[0m\u001b[0;34m]\u001b[0m\u001b[0;34m)\u001b[0m\u001b[0;34m)\u001b[0m\u001b[0;34m:\u001b[0m\u001b[0;34m\u001b[0m\u001b[0;34m\u001b[0m\u001b[0m\n\u001b[0m\u001b[1;32m      5\u001b[0m                 \u001b[0mprint\u001b[0m\u001b[0;34m(\u001b[0m\u001b[0mlist_of_strings\u001b[0m\u001b[0;34m[\u001b[0m\u001b[0mj\u001b[0m\u001b[0;34m]\u001b[0m\u001b[0;34m)\u001b[0m\u001b[0;34m\u001b[0m\u001b[0;34m\u001b[0m\u001b[0m\n\u001b[1;32m      6\u001b[0m             \u001b[0;31m# Otherwise, if two different lists are matching, print it out.\u001b[0m\u001b[0;34m\u001b[0m\u001b[0;34m\u001b[0m\u001b[0m\n",
      "\u001b[0;31mTypeError\u001b[0m: string argument without an encoding"
     ]
    }
   ],
   "source": [
    "def sort_anagrams(list_of_strings):\n",
    "    for i in range(len(list_of_strings)):\n",
    "        for j in range(len(list_of_strings)):\n",
    "            if sum(bytearray(list_of_strings[i])) == sum(bytearray(list_of_strings[j])):\n",
    "                print(list_of_strings[j])\n",
    "            # Otherwise, if two different lists are matching, print it out.\n",
    "            #if list_of_strings[i] == list_of_strings[j]:\n",
    "             #   print(list_of_strings[i])\n",
    "    \n",
    "\n",
    "list_of_words = ['deltas', 'retainers', 'desalt', 'pants', 'slated', 'generating', 'ternaries', 'smelters', 'termless', 'salted', 'staled', 'greatening', 'lasted', 'resmelts']\n",
    "sort_anagrams(list_of_words)\n",
    "#[['deltas', 'desalt', 'slated', 'salted', 'staled', 'lasted'], ['retainers', 'ternaries'], ['pants'], ['generating', 'greatening'], ['smelters', 'termless', 'resmelts']]\n",
    "    \n",
    "    \n",
    "    "
   ]
  },
  {
   "cell_type": "markdown",
   "id": "10976a41",
   "metadata": {},
   "source": [
    "### 8.3.2"
   ]
  },
  {
   "cell_type": "code",
   "execution_count": 45,
   "id": "445a84de",
   "metadata": {},
   "outputs": [
    {
     "name": "stdout",
     "output_type": "stream",
     "text": [
      "Type a #: 5\n",
      "Cooking\n"
     ]
    }
   ],
   "source": [
    "import datetime as dt\n",
    "from datetime import date\n",
    "\n",
    "import calendar\n",
    "\n",
    "def calculate_age(born):\n",
    "    today = date.today()\n",
    "    return today.year - born.year - ((today.month, today.day) < (born.month, born.day))\n",
    "\n",
    "def app(kelet):\n",
    "    func={'first_name' : 'Mariah', 'last_name' : 'Carey', 'birth_date' : '27.03.1970', \n",
    "'hobbies' : ['Sing', 'Compose', 'Act']}\n",
    "    date=func['birth_date']\n",
    "    datem=dt.datetime.strptime(date, \"%d.%m.%Y\")\n",
    "    if kelet==1:\n",
    "        print(func['last_name']) \n",
    "    if kelet==2:\n",
    "        print(calendar.month_name[datem.month]) \n",
    "    if kelet==3:\n",
    "        print(len(func['hobbies'])) \n",
    "    if kelet==4:\n",
    "        print(func['hobbies'][-1])\n",
    "    if kelet==5:\n",
    "        func[\"hobbies\"] += [\"Cooking\"]\n",
    "        print(func['hobbies'][-1])\n",
    "    if kelet==6:\n",
    "        bdaytuple=datem.day, datem.month, datem.year\n",
    "        print(tuple(bdaytuple))\n",
    "    if kelet==7:\n",
    "        print(calculate_age(datem))\n",
    "    \n",
    "app(int(input(\"Type a #: \")))"
   ]
  },
  {
   "cell_type": "markdown",
   "id": "fb80987b",
   "metadata": {},
   "source": [
    "### 8.3.3"
   ]
  },
  {
   "cell_type": "code",
   "execution_count": null,
   "id": "a480f5f4",
   "metadata": {},
   "outputs": [],
   "source": [
    "def count_chars(my_str):\n",
    "\n",
    "\n",
    "magic_str = \"abra cadabra\"\n",
    "count_chars(magic_str)\n",
    "#{'a': 5, 'b': 2, 'r': 2, 'c': 1, 'd': 1}\n",
    "    "
   ]
  }
 ],
 "metadata": {
  "kernelspec": {
   "display_name": "Python 3 (ipykernel)",
   "language": "python",
   "name": "python3"
  },
  "language_info": {
   "codemirror_mode": {
    "name": "ipython",
    "version": 3
   },
   "file_extension": ".py",
   "mimetype": "text/x-python",
   "name": "python",
   "nbconvert_exporter": "python",
   "pygments_lexer": "ipython3",
   "version": "3.9.7"
  }
 },
 "nbformat": 4,
 "nbformat_minor": 5
}

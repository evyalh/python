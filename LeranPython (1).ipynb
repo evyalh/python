{
 "cells": [
  {
   "cell_type": "code",
   "execution_count": null,
   "id": "93c838e3",
   "metadata": {},
   "outputs": [],
   "source": [
    "import math\n",
    "import os\n",
    "import random\n",
    "import re\n",
    "import sys"
   ]
  },
  {
   "cell_type": "code",
   "execution_count": 14,
   "id": "4a9cae49",
   "metadata": {},
   "outputs": [
    {
     "name": "stdout",
     "output_type": "stream",
     "text": [
      "20\n",
      "Weird\n"
     ]
    }
   ],
   "source": [
    "if __name__ == '__main__':\n",
    "    n = int(input().strip())\n",
    "    range_1 = range(0,101)\n",
    "    if n in range_1 and n%2 == 1 : print('Weird')\n",
    "    elif n in range_1 and n%2 == 0 and n in range (1,6) : print('Not Weird')\n",
    "    elif n in range_1 and n%2 == 0 and n in range (5,21) : print('Weird')\n",
    "    elif n in range_1 and n%2 == 0 and n>20 : print('Not Weird')\n",
    "    else : print('Not Weird')"
   ]
  },
  {
   "cell_type": "code",
   "execution_count": null,
   "id": "ec376477",
   "metadata": {},
   "outputs": [],
   "source": []
  },
  {
   "cell_type": "code",
   "execution_count": 11,
   "id": "9d9c845d",
   "metadata": {},
   "outputs": [
    {
     "name": "stdout",
     "output_type": "stream",
     "text": [
      "8\n"
     ]
    }
   ],
   "source": [
    "  if __name__ == '__main__':\n",
    "    n = int(input().strip())\n",
    "    if n%2 == 1 : print('Odd')\n",
    "        "
   ]
  },
  {
   "cell_type": "code",
   "execution_count": 19,
   "id": "1985db8d",
   "metadata": {},
   "outputs": [
    {
     "name": "stdout",
     "output_type": "stream",
     "text": [
      "3\n",
      "2\n",
      "5\n",
      "1\n",
      "6\n"
     ]
    }
   ],
   "source": [
    "if __name__ == '__main__':\n",
    "    a = int(input())\n",
    "    b = int(input())\n",
    "    s = a+b\n",
    "    sub = a-b\n",
    "    p = a*b\n",
    "    print (s)\n",
    "    print (sub)\n",
    "    print (a*b)"
   ]
  },
  {
   "cell_type": "code",
   "execution_count": 21,
   "id": "1ba0051b",
   "metadata": {},
   "outputs": [
    {
     "name": "stdout",
     "output_type": "stream",
     "text": [
      "4\n",
      "3\n",
      "1\n",
      "1.3333333333333333\n"
     ]
    }
   ],
   "source": [
    "if __name__ == '__main__':\n",
    "    a = int(input())\n",
    "    b = int(input())\n",
    "    d = a//b\n",
    "    f = a/b\n",
    "    print (d)\n",
    "    print (f)"
   ]
  },
  {
   "cell_type": "code",
   "execution_count": 37,
   "id": "8fa4936f",
   "metadata": {},
   "outputs": [
    {
     "name": "stdout",
     "output_type": "stream",
     "text": [
      "3\n",
      "0\n",
      "1\n",
      "4\n"
     ]
    }
   ],
   "source": [
    "if __name__ == '__main__':\n",
    "    n = int(input())\n",
    "    for i in range(0, n):\n",
    "        ##if i%2 == 0 : print (i**2)\n",
    "        exp = i ** 2\n",
    "        print (exp)\n",
    "    "
   ]
  },
  {
   "cell_type": "markdown",
   "id": "329a2246",
   "metadata": {},
   "source": [
    "The year can be evenly divided by 4, is a leap year, unless:\n",
    "The year can be evenly divided by 100, it is NOT a leap year, unless:\n",
    "The year is also evenly divisible by 400. Then it is a leap year."
   ]
  },
  {
   "cell_type": "code",
   "execution_count": 57,
   "id": "e33f5804",
   "metadata": {},
   "outputs": [
    {
     "name": "stdout",
     "output_type": "stream",
     "text": [
      "2000\n",
      "False\n"
     ]
    }
   ],
   "source": [
    "def is_leap(year):\n",
    "    leap = False \n",
    "    if year%4==0:\n",
    "        if year%100==1:\n",
    "            if year%400==0:\n",
    "                leap = True\n",
    "    return leap\n",
    "\n",
    "year = int(input())\n",
    "print(is_leap(year))"
   ]
  },
  {
   "cell_type": "code",
   "execution_count": 2,
   "id": "552c377d",
   "metadata": {},
   "outputs": [
    {
     "name": "stdout",
     "output_type": "stream",
     "text": [
      "1800\n",
      "False\n"
     ]
    }
   ],
   "source": [
    "def is_leap(year):\n",
    "    leap = False \n",
    "    if year%4==0 and (year%400==0 or year%100!=0):\n",
    "        leap = True\n",
    "    return leap\n",
    "\n",
    "year = int(input())\n",
    "print(is_leap(year))\n"
   ]
  },
  {
   "cell_type": "code",
   "execution_count": 65,
   "id": "52923cc6",
   "metadata": {},
   "outputs": [
    {
     "name": "stdout",
     "output_type": "stream",
     "text": [
      "3\n",
      "123"
     ]
    }
   ],
   "source": [
    "if __name__ == '__main__':\n",
    "    n = int(input())\n",
    "    i=0\n",
    "    for i in range(0,151):\n",
    "        if i<n:\n",
    "            i = i+1\n",
    "            print (i, end=\"\")"
   ]
  },
  {
   "cell_type": "markdown",
   "id": "ee96b155",
   "metadata": {},
   "source": [
    "input() gets user input and returns a string, e.g. \"1 2 3 4 5\"\n",
    "\n",
    "input().split() splits that input on whitespaces, e.g. [\"1\", \"2\", \"3\", ...]\n",
    "\n",
    "int() converts a string to a integer, e.g. \"1\" -> 1\n",
    "\n",
    "map(fn, sequence) applies the function fn to each element in the sequence, e.g. fn(sequence[0]), fn(sequence[1]), ...\n",
    "\n",
    "map(int, input().split()) applies int to each string element in the input, e.g. [\"1\", \"2\", \"3\", ...] -> int(\"1\"), int(\"2\"), ...\n",
    "\n",
    "list() turns any iterator/generator to a list, e.g. int(\"1\"), int(\"2\"), ... => [1, 2, 3, ...]"
   ]
  },
  {
   "cell_type": "code",
   "execution_count": null,
   "id": "fb353442",
   "metadata": {},
   "outputs": [],
   "source": [
    "if __name__ == '__main__':\n",
    "    n = int(input())\n",
    "    arr = map(int, input().split())\n",
    "    print(type(arr))\n",
    "    print(sorted(list(set(arr)))[-2])\n",
    "    ##print (n)\n",
    "    ##print(list(arr))\n",
    "    ##print(max(arr))"
   ]
  },
  {
   "cell_type": "code",
   "execution_count": 23,
   "id": "13dd8160",
   "metadata": {},
   "outputs": [
    {
     "name": "stdout",
     "output_type": "stream",
     "text": [
      "5\n",
      "HARRY\n",
      "37.21\n",
      "BERRY\n",
      "37.21\n",
      "TINA\n",
      "37.2\n",
      "ARKITI\n",
      "41\n",
      "HARSH\n",
      "39\n",
      "1\n",
      "[37.21, 37.21, 41.0, 39.0]\n",
      "37.21\n",
      "[['ARKITI', 41.0], ['BERRY', 37.21], ['HARRY', 37.21], ['HARSH', 39.0], ['TINA', 37.2]]\n",
      "BERRY\n",
      "HARRY\n"
     ]
    }
   ],
   "source": [
    "\n",
    "if __name__ == '__main__':\n",
    "    students = []\n",
    "    scores = []\n",
    "    for N in range(int(input())):\n",
    "        name = input()\n",
    "        score = float(input())\n",
    "        scores.append(score)\n",
    "        students.append([name, score])\n",
    "    \n",
    "    count = scores.count(min(scores))\n",
    "    print(count)\n",
    "    for i in range(count):\n",
    "        scores.remove(min(scores))\n",
    "        print(scores)\n",
    "    secondHigh = min(scores)\n",
    "    print(secondHigh)\n",
    "    \n",
    "    students.sort()\n",
    "    print(students)\n",
    "    output = [x for x in students if x[1] == secondHigh]\n",
    "    for i in output:\n",
    "        print(i[0])"
   ]
  },
  {
   "cell_type": "code",
   "execution_count": null,
   "id": "485b8dcf",
   "metadata": {},
   "outputs": [],
   "source": []
  }
 ],
 "metadata": {
  "kernelspec": {
   "display_name": "Python 3 (ipykernel)",
   "language": "python",
   "name": "python3"
  },
  "language_info": {
   "codemirror_mode": {
    "name": "ipython",
    "version": 3
   },
   "file_extension": ".py",
   "mimetype": "text/x-python",
   "name": "python",
   "nbconvert_exporter": "python",
   "pygments_lexer": "ipython3",
   "version": "3.9.7"
  }
 },
 "nbformat": 4,
 "nbformat_minor": 5
}
